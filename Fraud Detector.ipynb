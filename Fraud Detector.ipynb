{
 "cells": [
  {
   "cell_type": "markdown",
   "metadata": {},
   "source": [
    "## Introduction\n",
    "\n",
    "This project involves using simple machine learning models to identify frauduent credit card transations. "
   ]
  },
  {
   "cell_type": "code",
   "execution_count": 1,
   "metadata": {},
   "outputs": [],
   "source": [
    "import pandas as pd\n",
    "import numpy as np\n"
   ]
  },
  {
   "cell_type": "markdown",
   "metadata": {},
   "source": [
    "#### Import Data\n",
    "\n",
    "Source: https://www.kaggle.com/mlg-ulb/creditcardfraud\n",
    "\n",
    "Columns are the result of principal component analysis so column headers do not correspond with original features in the dataset but are rather combinations of features. Each row in this dataset corresponds with a transaction. "
   ]
  },
  {
   "cell_type": "code",
   "execution_count": 2,
   "metadata": {},
   "outputs": [],
   "source": [
    "credit_df = pd.read_csv('Data/creditcard.csv')"
   ]
  },
  {
   "cell_type": "code",
   "execution_count": 3,
   "metadata": {},
   "outputs": [
    {
     "data": {
      "text/html": [
       "<div>\n",
       "<style scoped>\n",
       "    .dataframe tbody tr th:only-of-type {\n",
       "        vertical-align: middle;\n",
       "    }\n",
       "\n",
       "    .dataframe tbody tr th {\n",
       "        vertical-align: top;\n",
       "    }\n",
       "\n",
       "    .dataframe thead th {\n",
       "        text-align: right;\n",
       "    }\n",
       "</style>\n",
       "<table border=\"1\" class=\"dataframe\">\n",
       "  <thead>\n",
       "    <tr style=\"text-align: right;\">\n",
       "      <th></th>\n",
       "      <th>Time</th>\n",
       "      <th>V1</th>\n",
       "      <th>V2</th>\n",
       "      <th>V3</th>\n",
       "      <th>V4</th>\n",
       "      <th>V5</th>\n",
       "      <th>V6</th>\n",
       "      <th>V7</th>\n",
       "      <th>V8</th>\n",
       "      <th>V9</th>\n",
       "      <th>...</th>\n",
       "      <th>V21</th>\n",
       "      <th>V22</th>\n",
       "      <th>V23</th>\n",
       "      <th>V24</th>\n",
       "      <th>V25</th>\n",
       "      <th>V26</th>\n",
       "      <th>V27</th>\n",
       "      <th>V28</th>\n",
       "      <th>Amount</th>\n",
       "      <th>Class</th>\n",
       "    </tr>\n",
       "  </thead>\n",
       "  <tbody>\n",
       "    <tr>\n",
       "      <th>0</th>\n",
       "      <td>0.0</td>\n",
       "      <td>-1.359807</td>\n",
       "      <td>-0.072781</td>\n",
       "      <td>2.536347</td>\n",
       "      <td>1.378155</td>\n",
       "      <td>-0.338321</td>\n",
       "      <td>0.462388</td>\n",
       "      <td>0.239599</td>\n",
       "      <td>0.098698</td>\n",
       "      <td>0.363787</td>\n",
       "      <td>...</td>\n",
       "      <td>-0.018307</td>\n",
       "      <td>0.277838</td>\n",
       "      <td>-0.110474</td>\n",
       "      <td>0.066928</td>\n",
       "      <td>0.128539</td>\n",
       "      <td>-0.189115</td>\n",
       "      <td>0.133558</td>\n",
       "      <td>-0.021053</td>\n",
       "      <td>149.62</td>\n",
       "      <td>0</td>\n",
       "    </tr>\n",
       "    <tr>\n",
       "      <th>1</th>\n",
       "      <td>0.0</td>\n",
       "      <td>1.191857</td>\n",
       "      <td>0.266151</td>\n",
       "      <td>0.166480</td>\n",
       "      <td>0.448154</td>\n",
       "      <td>0.060018</td>\n",
       "      <td>-0.082361</td>\n",
       "      <td>-0.078803</td>\n",
       "      <td>0.085102</td>\n",
       "      <td>-0.255425</td>\n",
       "      <td>...</td>\n",
       "      <td>-0.225775</td>\n",
       "      <td>-0.638672</td>\n",
       "      <td>0.101288</td>\n",
       "      <td>-0.339846</td>\n",
       "      <td>0.167170</td>\n",
       "      <td>0.125895</td>\n",
       "      <td>-0.008983</td>\n",
       "      <td>0.014724</td>\n",
       "      <td>2.69</td>\n",
       "      <td>0</td>\n",
       "    </tr>\n",
       "    <tr>\n",
       "      <th>2</th>\n",
       "      <td>1.0</td>\n",
       "      <td>-1.358354</td>\n",
       "      <td>-1.340163</td>\n",
       "      <td>1.773209</td>\n",
       "      <td>0.379780</td>\n",
       "      <td>-0.503198</td>\n",
       "      <td>1.800499</td>\n",
       "      <td>0.791461</td>\n",
       "      <td>0.247676</td>\n",
       "      <td>-1.514654</td>\n",
       "      <td>...</td>\n",
       "      <td>0.247998</td>\n",
       "      <td>0.771679</td>\n",
       "      <td>0.909412</td>\n",
       "      <td>-0.689281</td>\n",
       "      <td>-0.327642</td>\n",
       "      <td>-0.139097</td>\n",
       "      <td>-0.055353</td>\n",
       "      <td>-0.059752</td>\n",
       "      <td>378.66</td>\n",
       "      <td>0</td>\n",
       "    </tr>\n",
       "    <tr>\n",
       "      <th>3</th>\n",
       "      <td>1.0</td>\n",
       "      <td>-0.966272</td>\n",
       "      <td>-0.185226</td>\n",
       "      <td>1.792993</td>\n",
       "      <td>-0.863291</td>\n",
       "      <td>-0.010309</td>\n",
       "      <td>1.247203</td>\n",
       "      <td>0.237609</td>\n",
       "      <td>0.377436</td>\n",
       "      <td>-1.387024</td>\n",
       "      <td>...</td>\n",
       "      <td>-0.108300</td>\n",
       "      <td>0.005274</td>\n",
       "      <td>-0.190321</td>\n",
       "      <td>-1.175575</td>\n",
       "      <td>0.647376</td>\n",
       "      <td>-0.221929</td>\n",
       "      <td>0.062723</td>\n",
       "      <td>0.061458</td>\n",
       "      <td>123.50</td>\n",
       "      <td>0</td>\n",
       "    </tr>\n",
       "    <tr>\n",
       "      <th>4</th>\n",
       "      <td>2.0</td>\n",
       "      <td>-1.158233</td>\n",
       "      <td>0.877737</td>\n",
       "      <td>1.548718</td>\n",
       "      <td>0.403034</td>\n",
       "      <td>-0.407193</td>\n",
       "      <td>0.095921</td>\n",
       "      <td>0.592941</td>\n",
       "      <td>-0.270533</td>\n",
       "      <td>0.817739</td>\n",
       "      <td>...</td>\n",
       "      <td>-0.009431</td>\n",
       "      <td>0.798278</td>\n",
       "      <td>-0.137458</td>\n",
       "      <td>0.141267</td>\n",
       "      <td>-0.206010</td>\n",
       "      <td>0.502292</td>\n",
       "      <td>0.219422</td>\n",
       "      <td>0.215153</td>\n",
       "      <td>69.99</td>\n",
       "      <td>0</td>\n",
       "    </tr>\n",
       "  </tbody>\n",
       "</table>\n",
       "<p>5 rows × 31 columns</p>\n",
       "</div>"
      ],
      "text/plain": [
       "   Time        V1        V2        V3        V4        V5        V6        V7  \\\n",
       "0   0.0 -1.359807 -0.072781  2.536347  1.378155 -0.338321  0.462388  0.239599   \n",
       "1   0.0  1.191857  0.266151  0.166480  0.448154  0.060018 -0.082361 -0.078803   \n",
       "2   1.0 -1.358354 -1.340163  1.773209  0.379780 -0.503198  1.800499  0.791461   \n",
       "3   1.0 -0.966272 -0.185226  1.792993 -0.863291 -0.010309  1.247203  0.237609   \n",
       "4   2.0 -1.158233  0.877737  1.548718  0.403034 -0.407193  0.095921  0.592941   \n",
       "\n",
       "         V8        V9  ...       V21       V22       V23       V24       V25  \\\n",
       "0  0.098698  0.363787  ... -0.018307  0.277838 -0.110474  0.066928  0.128539   \n",
       "1  0.085102 -0.255425  ... -0.225775 -0.638672  0.101288 -0.339846  0.167170   \n",
       "2  0.247676 -1.514654  ...  0.247998  0.771679  0.909412 -0.689281 -0.327642   \n",
       "3  0.377436 -1.387024  ... -0.108300  0.005274 -0.190321 -1.175575  0.647376   \n",
       "4 -0.270533  0.817739  ... -0.009431  0.798278 -0.137458  0.141267 -0.206010   \n",
       "\n",
       "        V26       V27       V28  Amount  Class  \n",
       "0 -0.189115  0.133558 -0.021053  149.62      0  \n",
       "1  0.125895 -0.008983  0.014724    2.69      0  \n",
       "2 -0.139097 -0.055353 -0.059752  378.66      0  \n",
       "3 -0.221929  0.062723  0.061458  123.50      0  \n",
       "4  0.502292  0.219422  0.215153   69.99      0  \n",
       "\n",
       "[5 rows x 31 columns]"
      ]
     },
     "execution_count": 3,
     "metadata": {},
     "output_type": "execute_result"
    }
   ],
   "source": [
    "credit_df.head()"
   ]
  },
  {
   "cell_type": "code",
   "execution_count": 4,
   "metadata": {},
   "outputs": [],
   "source": [
    "X = credit_df.drop(['Class'], axis=1)\n",
    "y = credit_df['Class']"
   ]
  },
  {
   "cell_type": "code",
   "execution_count": 5,
   "metadata": {},
   "outputs": [
    {
     "name": "stdout",
     "output_type": "stream",
     "text": [
      "(284807, 30)\n",
      "(284807,)\n"
     ]
    }
   ],
   "source": [
    "print(X.shape)\n",
    "print(y.shape)"
   ]
  },
  {
   "cell_type": "code",
   "execution_count": 6,
   "metadata": {},
   "outputs": [],
   "source": [
    "from sklearn.model_selection import train_test_split\n",
    "\n",
    "X_train, X_test, y_train, y_test = train_test_split(X, y, test_size=.1)"
   ]
  },
  {
   "cell_type": "code",
   "execution_count": 7,
   "metadata": {},
   "outputs": [
    {
     "data": {
      "text/html": [
       "<div>\n",
       "<style scoped>\n",
       "    .dataframe tbody tr th:only-of-type {\n",
       "        vertical-align: middle;\n",
       "    }\n",
       "\n",
       "    .dataframe tbody tr th {\n",
       "        vertical-align: top;\n",
       "    }\n",
       "\n",
       "    .dataframe thead th {\n",
       "        text-align: right;\n",
       "    }\n",
       "</style>\n",
       "<table border=\"1\" class=\"dataframe\">\n",
       "  <thead>\n",
       "    <tr style=\"text-align: right;\">\n",
       "      <th></th>\n",
       "      <th>Time</th>\n",
       "      <th>V1</th>\n",
       "      <th>V2</th>\n",
       "      <th>V3</th>\n",
       "      <th>V4</th>\n",
       "      <th>V5</th>\n",
       "      <th>V6</th>\n",
       "      <th>V7</th>\n",
       "      <th>V8</th>\n",
       "      <th>V9</th>\n",
       "      <th>...</th>\n",
       "      <th>V20</th>\n",
       "      <th>V21</th>\n",
       "      <th>V22</th>\n",
       "      <th>V23</th>\n",
       "      <th>V24</th>\n",
       "      <th>V25</th>\n",
       "      <th>V26</th>\n",
       "      <th>V27</th>\n",
       "      <th>V28</th>\n",
       "      <th>Amount</th>\n",
       "    </tr>\n",
       "  </thead>\n",
       "  <tbody>\n",
       "    <tr>\n",
       "      <th>13157</th>\n",
       "      <td>23103.0</td>\n",
       "      <td>-0.478201</td>\n",
       "      <td>-0.407701</td>\n",
       "      <td>2.323529</td>\n",
       "      <td>0.587044</td>\n",
       "      <td>-0.434592</td>\n",
       "      <td>-0.049371</td>\n",
       "      <td>-0.280238</td>\n",
       "      <td>0.012662</td>\n",
       "      <td>2.187713</td>\n",
       "      <td>...</td>\n",
       "      <td>0.242199</td>\n",
       "      <td>-0.172913</td>\n",
       "      <td>-0.041109</td>\n",
       "      <td>0.382321</td>\n",
       "      <td>0.380025</td>\n",
       "      <td>-1.254620</td>\n",
       "      <td>0.883601</td>\n",
       "      <td>-0.050363</td>\n",
       "      <td>-0.029492</td>\n",
       "      <td>69.32</td>\n",
       "    </tr>\n",
       "    <tr>\n",
       "      <th>16281</th>\n",
       "      <td>27679.0</td>\n",
       "      <td>-0.669301</td>\n",
       "      <td>1.510757</td>\n",
       "      <td>0.059880</td>\n",
       "      <td>0.123442</td>\n",
       "      <td>0.519715</td>\n",
       "      <td>-0.632464</td>\n",
       "      <td>0.535103</td>\n",
       "      <td>0.469660</td>\n",
       "      <td>-1.126830</td>\n",
       "      <td>...</td>\n",
       "      <td>-0.172711</td>\n",
       "      <td>0.091797</td>\n",
       "      <td>0.159378</td>\n",
       "      <td>-0.103288</td>\n",
       "      <td>-0.103607</td>\n",
       "      <td>-0.416813</td>\n",
       "      <td>0.270727</td>\n",
       "      <td>0.002388</td>\n",
       "      <td>0.108626</td>\n",
       "      <td>0.76</td>\n",
       "    </tr>\n",
       "    <tr>\n",
       "      <th>263772</th>\n",
       "      <td>161110.0</td>\n",
       "      <td>-2.016868</td>\n",
       "      <td>0.501554</td>\n",
       "      <td>1.550666</td>\n",
       "      <td>0.669089</td>\n",
       "      <td>-0.619659</td>\n",
       "      <td>1.143745</td>\n",
       "      <td>-0.598858</td>\n",
       "      <td>1.002609</td>\n",
       "      <td>0.550048</td>\n",
       "      <td>...</td>\n",
       "      <td>0.311179</td>\n",
       "      <td>0.140965</td>\n",
       "      <td>0.558164</td>\n",
       "      <td>-0.483971</td>\n",
       "      <td>-1.133268</td>\n",
       "      <td>0.607497</td>\n",
       "      <td>-0.204242</td>\n",
       "      <td>0.483648</td>\n",
       "      <td>0.258928</td>\n",
       "      <td>100.00</td>\n",
       "    </tr>\n",
       "    <tr>\n",
       "      <th>232906</th>\n",
       "      <td>147362.0</td>\n",
       "      <td>1.978389</td>\n",
       "      <td>-0.442990</td>\n",
       "      <td>-0.243828</td>\n",
       "      <td>0.528865</td>\n",
       "      <td>-0.841051</td>\n",
       "      <td>-0.548064</td>\n",
       "      <td>-0.666021</td>\n",
       "      <td>-0.008577</td>\n",
       "      <td>1.560300</td>\n",
       "      <td>...</td>\n",
       "      <td>-0.275602</td>\n",
       "      <td>0.245159</td>\n",
       "      <td>0.971615</td>\n",
       "      <td>0.101234</td>\n",
       "      <td>0.006572</td>\n",
       "      <td>-0.078280</td>\n",
       "      <td>-0.148676</td>\n",
       "      <td>0.042501</td>\n",
       "      <td>-0.040162</td>\n",
       "      <td>3.71</td>\n",
       "    </tr>\n",
       "    <tr>\n",
       "      <th>213426</th>\n",
       "      <td>139253.0</td>\n",
       "      <td>1.835389</td>\n",
       "      <td>-0.591849</td>\n",
       "      <td>-0.129937</td>\n",
       "      <td>0.400916</td>\n",
       "      <td>-1.103263</td>\n",
       "      <td>-0.832440</td>\n",
       "      <td>-0.555267</td>\n",
       "      <td>0.056279</td>\n",
       "      <td>0.914205</td>\n",
       "      <td>...</td>\n",
       "      <td>-0.189997</td>\n",
       "      <td>-0.161663</td>\n",
       "      <td>-0.562468</td>\n",
       "      <td>0.475980</td>\n",
       "      <td>0.504552</td>\n",
       "      <td>-0.812143</td>\n",
       "      <td>0.177580</td>\n",
       "      <td>-0.059042</td>\n",
       "      <td>-0.042949</td>\n",
       "      <td>52.49</td>\n",
       "    </tr>\n",
       "    <tr>\n",
       "      <th>...</th>\n",
       "      <td>...</td>\n",
       "      <td>...</td>\n",
       "      <td>...</td>\n",
       "      <td>...</td>\n",
       "      <td>...</td>\n",
       "      <td>...</td>\n",
       "      <td>...</td>\n",
       "      <td>...</td>\n",
       "      <td>...</td>\n",
       "      <td>...</td>\n",
       "      <td>...</td>\n",
       "      <td>...</td>\n",
       "      <td>...</td>\n",
       "      <td>...</td>\n",
       "      <td>...</td>\n",
       "      <td>...</td>\n",
       "      <td>...</td>\n",
       "      <td>...</td>\n",
       "      <td>...</td>\n",
       "      <td>...</td>\n",
       "      <td>...</td>\n",
       "    </tr>\n",
       "    <tr>\n",
       "      <th>123754</th>\n",
       "      <td>77053.0</td>\n",
       "      <td>1.022821</td>\n",
       "      <td>0.192494</td>\n",
       "      <td>0.390552</td>\n",
       "      <td>1.134598</td>\n",
       "      <td>-0.125814</td>\n",
       "      <td>-0.313685</td>\n",
       "      <td>0.227190</td>\n",
       "      <td>0.038845</td>\n",
       "      <td>-0.460459</td>\n",
       "      <td>...</td>\n",
       "      <td>-0.065653</td>\n",
       "      <td>-0.344803</td>\n",
       "      <td>-1.192579</td>\n",
       "      <td>0.221672</td>\n",
       "      <td>0.135732</td>\n",
       "      <td>0.091265</td>\n",
       "      <td>-0.844465</td>\n",
       "      <td>0.011575</td>\n",
       "      <td>0.027589</td>\n",
       "      <td>62.00</td>\n",
       "    </tr>\n",
       "    <tr>\n",
       "      <th>134260</th>\n",
       "      <td>80720.0</td>\n",
       "      <td>-0.848890</td>\n",
       "      <td>0.942295</td>\n",
       "      <td>1.246255</td>\n",
       "      <td>-0.238391</td>\n",
       "      <td>0.015231</td>\n",
       "      <td>0.052091</td>\n",
       "      <td>0.059353</td>\n",
       "      <td>0.548113</td>\n",
       "      <td>-0.819373</td>\n",
       "      <td>...</td>\n",
       "      <td>0.005190</td>\n",
       "      <td>0.167702</td>\n",
       "      <td>0.290822</td>\n",
       "      <td>-0.217942</td>\n",
       "      <td>-0.453262</td>\n",
       "      <td>-0.073494</td>\n",
       "      <td>0.330706</td>\n",
       "      <td>-0.045388</td>\n",
       "      <td>0.025056</td>\n",
       "      <td>18.48</td>\n",
       "    </tr>\n",
       "    <tr>\n",
       "      <th>121592</th>\n",
       "      <td>76250.0</td>\n",
       "      <td>1.295244</td>\n",
       "      <td>0.260540</td>\n",
       "      <td>0.311213</td>\n",
       "      <td>0.500966</td>\n",
       "      <td>-0.208284</td>\n",
       "      <td>-0.699966</td>\n",
       "      <td>0.074154</td>\n",
       "      <td>-0.192692</td>\n",
       "      <td>0.028729</td>\n",
       "      <td>...</td>\n",
       "      <td>-0.055406</td>\n",
       "      <td>-0.286250</td>\n",
       "      <td>-0.808974</td>\n",
       "      <td>0.070737</td>\n",
       "      <td>-0.110800</td>\n",
       "      <td>0.295135</td>\n",
       "      <td>0.124354</td>\n",
       "      <td>-0.027568</td>\n",
       "      <td>0.014715</td>\n",
       "      <td>1.98</td>\n",
       "    </tr>\n",
       "    <tr>\n",
       "      <th>240686</th>\n",
       "      <td>150706.0</td>\n",
       "      <td>-0.180354</td>\n",
       "      <td>0.381664</td>\n",
       "      <td>0.298952</td>\n",
       "      <td>-0.148746</td>\n",
       "      <td>0.428854</td>\n",
       "      <td>-0.149421</td>\n",
       "      <td>0.988623</td>\n",
       "      <td>-0.146949</td>\n",
       "      <td>0.081917</td>\n",
       "      <td>...</td>\n",
       "      <td>0.231799</td>\n",
       "      <td>0.239652</td>\n",
       "      <td>0.812094</td>\n",
       "      <td>-0.042971</td>\n",
       "      <td>0.738740</td>\n",
       "      <td>-0.213842</td>\n",
       "      <td>0.258244</td>\n",
       "      <td>0.150577</td>\n",
       "      <td>0.196121</td>\n",
       "      <td>88.50</td>\n",
       "    </tr>\n",
       "    <tr>\n",
       "      <th>277608</th>\n",
       "      <td>167745.0</td>\n",
       "      <td>-1.467595</td>\n",
       "      <td>1.931119</td>\n",
       "      <td>-0.737188</td>\n",
       "      <td>-1.023101</td>\n",
       "      <td>0.167409</td>\n",
       "      <td>-0.688948</td>\n",
       "      <td>0.573346</td>\n",
       "      <td>0.391350</td>\n",
       "      <td>0.385059</td>\n",
       "      <td>...</td>\n",
       "      <td>0.554442</td>\n",
       "      <td>-0.339597</td>\n",
       "      <td>-0.585241</td>\n",
       "      <td>0.111376</td>\n",
       "      <td>-0.410325</td>\n",
       "      <td>-0.154649</td>\n",
       "      <td>0.167660</td>\n",
       "      <td>0.645401</td>\n",
       "      <td>0.351869</td>\n",
       "      <td>10.89</td>\n",
       "    </tr>\n",
       "  </tbody>\n",
       "</table>\n",
       "<p>256326 rows × 30 columns</p>\n",
       "</div>"
      ],
      "text/plain": [
       "            Time        V1        V2        V3        V4        V5        V6  \\\n",
       "13157    23103.0 -0.478201 -0.407701  2.323529  0.587044 -0.434592 -0.049371   \n",
       "16281    27679.0 -0.669301  1.510757  0.059880  0.123442  0.519715 -0.632464   \n",
       "263772  161110.0 -2.016868  0.501554  1.550666  0.669089 -0.619659  1.143745   \n",
       "232906  147362.0  1.978389 -0.442990 -0.243828  0.528865 -0.841051 -0.548064   \n",
       "213426  139253.0  1.835389 -0.591849 -0.129937  0.400916 -1.103263 -0.832440   \n",
       "...          ...       ...       ...       ...       ...       ...       ...   \n",
       "123754   77053.0  1.022821  0.192494  0.390552  1.134598 -0.125814 -0.313685   \n",
       "134260   80720.0 -0.848890  0.942295  1.246255 -0.238391  0.015231  0.052091   \n",
       "121592   76250.0  1.295244  0.260540  0.311213  0.500966 -0.208284 -0.699966   \n",
       "240686  150706.0 -0.180354  0.381664  0.298952 -0.148746  0.428854 -0.149421   \n",
       "277608  167745.0 -1.467595  1.931119 -0.737188 -1.023101  0.167409 -0.688948   \n",
       "\n",
       "              V7        V8        V9  ...       V20       V21       V22  \\\n",
       "13157  -0.280238  0.012662  2.187713  ...  0.242199 -0.172913 -0.041109   \n",
       "16281   0.535103  0.469660 -1.126830  ... -0.172711  0.091797  0.159378   \n",
       "263772 -0.598858  1.002609  0.550048  ...  0.311179  0.140965  0.558164   \n",
       "232906 -0.666021 -0.008577  1.560300  ... -0.275602  0.245159  0.971615   \n",
       "213426 -0.555267  0.056279  0.914205  ... -0.189997 -0.161663 -0.562468   \n",
       "...          ...       ...       ...  ...       ...       ...       ...   \n",
       "123754  0.227190  0.038845 -0.460459  ... -0.065653 -0.344803 -1.192579   \n",
       "134260  0.059353  0.548113 -0.819373  ...  0.005190  0.167702  0.290822   \n",
       "121592  0.074154 -0.192692  0.028729  ... -0.055406 -0.286250 -0.808974   \n",
       "240686  0.988623 -0.146949  0.081917  ...  0.231799  0.239652  0.812094   \n",
       "277608  0.573346  0.391350  0.385059  ...  0.554442 -0.339597 -0.585241   \n",
       "\n",
       "             V23       V24       V25       V26       V27       V28  Amount  \n",
       "13157   0.382321  0.380025 -1.254620  0.883601 -0.050363 -0.029492   69.32  \n",
       "16281  -0.103288 -0.103607 -0.416813  0.270727  0.002388  0.108626    0.76  \n",
       "263772 -0.483971 -1.133268  0.607497 -0.204242  0.483648  0.258928  100.00  \n",
       "232906  0.101234  0.006572 -0.078280 -0.148676  0.042501 -0.040162    3.71  \n",
       "213426  0.475980  0.504552 -0.812143  0.177580 -0.059042 -0.042949   52.49  \n",
       "...          ...       ...       ...       ...       ...       ...     ...  \n",
       "123754  0.221672  0.135732  0.091265 -0.844465  0.011575  0.027589   62.00  \n",
       "134260 -0.217942 -0.453262 -0.073494  0.330706 -0.045388  0.025056   18.48  \n",
       "121592  0.070737 -0.110800  0.295135  0.124354 -0.027568  0.014715    1.98  \n",
       "240686 -0.042971  0.738740 -0.213842  0.258244  0.150577  0.196121   88.50  \n",
       "277608  0.111376 -0.410325 -0.154649  0.167660  0.645401  0.351869   10.89  \n",
       "\n",
       "[256326 rows x 30 columns]"
      ]
     },
     "execution_count": 7,
     "metadata": {},
     "output_type": "execute_result"
    }
   ],
   "source": [
    "X_train"
   ]
  },
  {
   "cell_type": "markdown",
   "metadata": {},
   "source": [
    "### Apply Decision Tree Classifier"
   ]
  },
  {
   "cell_type": "code",
   "execution_count": 9,
   "metadata": {},
   "outputs": [],
   "source": [
    "from sklearn.tree import DecisionTreeClassifier\n",
    "\n",
    "#instantiate\n",
    "Tree = DecisionTreeClassifier(max_depth=2)\n",
    "\n",
    "#fit\n",
    "Tree.fit(X_train,y_train)\n",
    "\n",
    "#predict\n",
    "y_pred = Tree.predict(X_test)\n"
   ]
  },
  {
   "cell_type": "markdown",
   "metadata": {},
   "source": [
    "#### Evaluate Accuracy"
   ]
  },
  {
   "cell_type": "code",
   "execution_count": 11,
   "metadata": {},
   "outputs": [
    {
     "data": {
      "text/plain": [
       "0.9994733330992591"
      ]
     },
     "execution_count": 11,
     "metadata": {},
     "output_type": "execute_result"
    }
   ],
   "source": [
    "from sklearn.metrics import accuracy_score\n",
    "accuracy_score(y_pred, y_test)"
   ]
  },
  {
   "cell_type": "markdown",
   "metadata": {},
   "source": [
    "We can see that this method achieves a high accuracy rating but we know that the dataset has a high class imbalance with almost entirely negative values so this accuracy score does not mean much. I will review the confusion matrix to illustrustrate this point. "
   ]
  },
  {
   "cell_type": "code",
   "execution_count": 36,
   "metadata": {},
   "outputs": [
    {
     "data": {
      "text/plain": [
       "<sklearn.metrics._plot.confusion_matrix.ConfusionMatrixDisplay at 0x7ffa410eff10>"
      ]
     },
     "execution_count": 36,
     "metadata": {},
     "output_type": "execute_result"
    },
    {
     "data": {
      "image/png": "[encoded data removed]",
      "text/plain": [
       "<Figure size 432x288 with 2 Axes>"
      ]
     },
     "metadata": {
      "needs_background": "light"
     },
     "output_type": "display_data"
    }
   ],
   "source": [
    "cf_matrix = confusion_matrix(y_pred, y_test)\n",
    "\n",
    "ConfusionMatrixDisplay(cf_matrix).plot()"
   ]
  },
  {
   "cell_type": "markdown",
   "metadata": {},
   "source": [
    "We can see that of the 53 fraudulent transations 47 of them were identified as non-fraudulent. This is not a good ratio. I will calculate the precision and recall metrics to show this. "
   ]
  },
  {
   "cell_type": "code",
   "execution_count": 37,
   "metadata": {},
   "outputs": [
    {
     "data": {
      "text/plain": [
       "1.0"
      ]
     },
     "execution_count": 37,
     "metadata": {},
     "output_type": "execute_result"
    }
   ],
   "source": [
    "# Precision \n",
    "from sklearn.metrics import precision_score\n",
    "\n",
    "# precision_score(true labels, predicted labels)\n",
    "precision_score(y_test, y_pred)"
   ]
  },
  {
   "cell_type": "code",
   "execution_count": 38,
   "metadata": {
    "scrolled": true
   },
   "outputs": [
    {
     "data": {
      "text/plain": [
       "0.11320754716981132"
      ]
     },
     "execution_count": 38,
     "metadata": {},
     "output_type": "execute_result"
    }
   ],
   "source": [
    "# Recall\n",
    "from sklearn.metrics import recall_score\n",
    "\n",
    "# recall_score(true labels, predicted labels)\n",
    "recall_score(y_test, y_pred)"
   ]
  },
  {
   "cell_type": "markdown",
   "metadata": {},
   "source": [
    "We can see that this model has extemely high precision of 1.0, meaning that it almost never (or never in the case of this dataset) produces false positives. However it has very low recall, meaning that the model only actually catches 11.3 percent of fraudulent transations. I would not recommend the use of this model for that reason. It is possible that some degree of hyperparameter tuning could improve the model however. "
   ]
  },
  {
   "cell_type": "markdown",
   "metadata": {},
   "source": [
    "#### Hyperparamer Tuning\n",
    "\n",
    "I given how small the number of negative values is for this dataset I expect that I will need to increase the max_depth hyperparameter. I will do this below. Specifically I will run a loop which will refit the model at various different max depths and record the metrics scores for each. I will then plot the results to see if there is an optimal setting for max_depth."
   ]
  },
  {
   "cell_type": "code",
   "execution_count": 60,
   "metadata": {},
   "outputs": [],
   "source": [
    "from sklearn.metrics import f1_score\n",
    "\n",
    "recall_scores = []\n",
    "precision_scores = []\n",
    "f1_scores = []\n",
    "accuracy_scores = []\n",
    "max_depths = range(5,20)\n",
    "\n",
    "for max_depth in max_depths:\n",
    "    #instantiate\n",
    "    Tree = DecisionTreeClassifier(max_depth=max_depth)\n",
    "\n",
    "    #fit\n",
    "    Tree.fit(X_train,y_train)\n",
    "\n",
    "    #predict\n",
    "    y_pred = Tree.predict(X_test)\n",
    "    \n",
    "    #calcuate metrics\n",
    "    accuracy = accuracy_score(y_pred, y_test)\n",
    "    precision = precision_score(y_test, y_pred)\n",
    "    recall = recall_score(y_test, y_pred)\n",
    "    f1 = f1_score(y_test, y_pred)\n",
    "    \n",
    "    #append scores to list\n",
    "    recall_scores.append(recall)\n",
    "    precision_scores.append(precision)\n",
    "    accuracy_scores.append(accuracy)\n",
    "    f1_scores.append(f1)\n",
    "    \n",
    "    \n",
    "    \n",
    "#     print(f\"Max depth {max_depth} has an accuracy of {accuracy}\")\n",
    "#     print(f\"Max depth {max_depth} has an recall of {recall}\")\n",
    "#     print(f\"Max depth {max_depth} has an precision of {precision}\")"
   ]
  },
  {
   "cell_type": "markdown",
   "metadata": {},
   "source": [
    "#### Plot results"
   ]
  },
  {
   "cell_type": "code",
   "execution_count": 62,
   "metadata": {},
   "outputs": [
    {
     "data": {
      "image/png": "[encoded data removed]",
      "text/plain": [
       "<Figure size 1080x720 with 1 Axes>"
      ]
     },
     "metadata": {
      "needs_background": "light"
     },
     "output_type": "display_data"
    }
   ],
   "source": [
    "import matplotlib.pyplot as plt\n",
    "\n",
    "plt.figure(figsize=(15,10))\n",
    "plt.plot(max_depths, recall_scores, label='recall')\n",
    "plt.plot(max_depths, accuracy_scores, label= 'precision')\n",
    "plt.plot(max_depths, precision_scores, label = 'accuracy')\n",
    "plt.plot(max_depths, f1_scores, label = 'f1 score')\n",
    "plt.legend()\n",
    "plt.show()"
   ]
  },
  {
   "cell_type": "markdown",
   "metadata": {},
   "source": [
    "It appears that tuning the max depth parameters had a moderate effect on the various relevant metrics. The best setting appears to be at the initial point of max_depth = 5. This is where all of the relevant metric are maximized. After that point the model begins to overfit on the training data. "
   ]
  },
  {
   "cell_type": "code",
   "execution_count": 76,
   "metadata": {
    "scrolled": true
   },
   "outputs": [
    {
     "data": {
      "text/plain": [
       "<sklearn.metrics._plot.confusion_matrix.ConfusionMatrixDisplay at 0x7ff9f04f4eb0>"
      ]
     },
     "execution_count": 76,
     "metadata": {},
     "output_type": "execute_result"
    },
    {
     "data": {
      "image/png": "[encoded data removed]",
      "text/plain": [
       "<Figure size 432x288 with 2 Axes>"
      ]
     },
     "metadata": {
      "needs_background": "light"
     },
     "output_type": "display_data"
    }
   ],
   "source": [
    "    #instantiate\n",
    "    Tree = DecisionTreeClassifier(max_depth=5)\n",
    "\n",
    "    #fit\n",
    "    Tree.fit(X_train,y_train)\n",
    "\n",
    "    #predict\n",
    "    y_pred = Tree.predict(X_test)\n",
    "    \n",
    "    \n",
    "    #Plot Confusion Matrix\n",
    "    cf_matrix = confusion_matrix(y_test,y_pred)\n",
    "\n",
    "    ConfusionMatrixDisplay(cf_matrix).plot()"
   ]
  },
  {
   "cell_type": "markdown",
   "metadata": {},
   "source": [
    "#### Examine Confusion Matrix\n",
    "\n",
    "We can see from the confusion matrix that there was only 1 false positive in the data and an acceptable 11 false negatives with the majority of fraud cases (42) being detected. I believe that this is an acceptable result. In this case there would be few credit card customers who would be bothered by inappropriate fraud charges however the downside of this approach is that 11 out of the 53 fraudulent transations were not identified meaning that the model is only 79% accurate at identifying these charges. Accross a larger dataset with millions of transations this 20% could add up to significant. Thus I believe the model can still be improved with a different approach."
   ]
  },
  {
   "cell_type": "markdown",
   "metadata": {},
   "source": [
    "### Apply Logistic Regression\n",
    "I will also apply a logistic regresssion to the data to see if I can improve the results using a different model technique. In this example I will apply a gridsearch to optimize the C hyperparameter."
   ]
  },
  {
   "cell_type": "code",
   "execution_count": 70,
   "metadata": {},
   "outputs": [
    {
     "name": "stderr",
     "output_type": "stream",
     "text": [
      "/Users/stevenharrison/opt/anaconda3/lib/python3.8/site-packages/sklearn/linear_model/_logistic.py:762: ConvergenceWarning: lbfgs failed to converge (status=1):\n",
      "STOP: TOTAL NO. of ITERATIONS REACHED LIMIT.\n",
      "\n",
      "Increase the number of iterations (max_iter) or scale the data as shown in:\n",
      "    https://scikit-learn.org/stable/modules/preprocessing.html\n",
      "Please also refer to the documentation for alternative solver options:\n",
      "    https://scikit-learn.org/stable/modules/linear_model.html#logistic-regression\n",
      "  n_iter_i = _check_optimize_result(\n",
      "/Users/stevenharrison/opt/anaconda3/lib/python3.8/site-packages/sklearn/linear_model/_logistic.py:762: ConvergenceWarning: lbfgs failed to converge (status=1):\n",
      "STOP: TOTAL NO. of ITERATIONS REACHED LIMIT.\n",
      "\n",
      "Increase the number of iterations (max_iter) or scale the data as shown in:\n",
      "    https://scikit-learn.org/stable/modules/preprocessing.html\n",
      "Please also refer to the documentation for alternative solver options:\n",
      "    https://scikit-learn.org/stable/modules/linear_model.html#logistic-regression\n",
      "  n_iter_i = _check_optimize_result(\n",
      "/Users/stevenharrison/opt/anaconda3/lib/python3.8/site-packages/sklearn/linear_model/_logistic.py:762: ConvergenceWarning: lbfgs failed to converge (status=1):\n",
      "STOP: TOTAL NO. of ITERATIONS REACHED LIMIT.\n",
      "\n",
      "Increase the number of iterations (max_iter) or scale the data as shown in:\n",
      "    https://scikit-learn.org/stable/modules/preprocessing.html\n",
      "Please also refer to the documentation for alternative solver options:\n",
      "    https://scikit-learn.org/stable/modules/linear_model.html#logistic-regression\n",
      "  n_iter_i = _check_optimize_result(\n",
      "/Users/stevenharrison/opt/anaconda3/lib/python3.8/site-packages/sklearn/linear_model/_logistic.py:762: ConvergenceWarning: lbfgs failed to converge (status=1):\n",
      "STOP: TOTAL NO. of ITERATIONS REACHED LIMIT.\n",
      "\n",
      "Increase the number of iterations (max_iter) or scale the data as shown in:\n",
      "    https://scikit-learn.org/stable/modules/preprocessing.html\n",
      "Please also refer to the documentation for alternative solver options:\n",
      "    https://scikit-learn.org/stable/modules/linear_model.html#logistic-regression\n",
      "  n_iter_i = _check_optimize_result(\n",
      "/Users/stevenharrison/opt/anaconda3/lib/python3.8/site-packages/sklearn/linear_model/_logistic.py:762: ConvergenceWarning: lbfgs failed to converge (status=1):\n",
      "STOP: TOTAL NO. of ITERATIONS REACHED LIMIT.\n",
      "\n",
      "Increase the number of iterations (max_iter) or scale the data as shown in:\n",
      "    https://scikit-learn.org/stable/modules/preprocessing.html\n",
      "Please also refer to the documentation for alternative solver options:\n",
      "    https://scikit-learn.org/stable/modules/linear_model.html#logistic-regression\n",
      "  n_iter_i = _check_optimize_result(\n",
      "/Users/stevenharrison/opt/anaconda3/lib/python3.8/site-packages/sklearn/linear_model/_logistic.py:762: ConvergenceWarning: lbfgs failed to converge (status=1):\n",
      "STOP: TOTAL NO. of ITERATIONS REACHED LIMIT.\n",
      "\n",
      "Increase the number of iterations (max_iter) or scale the data as shown in:\n",
      "    https://scikit-learn.org/stable/modules/preprocessing.html\n",
      "Please also refer to the documentation for alternative solver options:\n",
      "    https://scikit-learn.org/stable/modules/linear_model.html#logistic-regression\n",
      "  n_iter_i = _check_optimize_result(\n",
      "/Users/stevenharrison/opt/anaconda3/lib/python3.8/site-packages/sklearn/linear_model/_logistic.py:762: ConvergenceWarning: lbfgs failed to converge (status=1):\n",
      "STOP: TOTAL NO. of ITERATIONS REACHED LIMIT.\n",
      "\n",
      "Increase the number of iterations (max_iter) or scale the data as shown in:\n",
      "    https://scikit-learn.org/stable/modules/preprocessing.html\n",
      "Please also refer to the documentation for alternative solver options:\n",
      "    https://scikit-learn.org/stable/modules/linear_model.html#logistic-regression\n",
      "  n_iter_i = _check_optimize_result(\n"
     ]
    },
    {
     "name": "stdout",
     "output_type": "stream",
     "text": [
      "Accuracy Score : 0.9991924440855307\n",
      "Precision Score : 0.8571428571428571\n",
      "Recall Score : 0.6792452830188679\n",
      "F1 Score : 0.7578947368421052\n"
     ]
    },
    {
     "data": {
      "text/plain": [
       "array([[28422,     6],\n",
       "       [   17,    36]])"
      ]
     },
     "execution_count": 70,
     "metadata": {},
     "output_type": "execute_result"
    }
   ],
   "source": [
    "#Grid Search\n",
    "from sklearn.model_selection import GridSearchCV\n",
    "clf = LogisticRegression(max_iter = 500)\n",
    "grid_values = {'C':[0.001,.009,0.01,.09,1,5,10,25]}\n",
    "grid_clf_acc = GridSearchCV(clf, param_grid = grid_values,scoring = 'f1')\n",
    "grid_clf_acc.fit(X_train, y_train)\n",
    "\n",
    "#Predict values based on new parameters\n",
    "y_pred_acc = grid_clf_acc.predict(X_test)\n",
    "\n",
    "# New Model Evaluation metrics \n",
    "print('Accuracy Score : ' + str(accuracy_score(y_test,y_pred_acc)))\n",
    "print('Precision Score : ' + str(precision_score(y_test,y_pred_acc)))\n",
    "print('Recall Score : ' + str(recall_score(y_test,y_pred_acc)))\n",
    "print('F1 Score : ' + str(f1_score(y_test,y_pred_acc)))\n",
    "\n",
    "#Logistic Regression (Grid Search) Confusion matrix\n",
    "confusion_matrix(y_test,y_pred_acc)"
   ]
  },
  {
   "cell_type": "code",
   "execution_count": 73,
   "metadata": {},
   "outputs": [
    {
     "data": {
      "text/plain": [
       "<sklearn.metrics._plot.confusion_matrix.ConfusionMatrixDisplay at 0x7ffa4105faf0>"
      ]
     },
     "execution_count": 73,
     "metadata": {},
     "output_type": "execute_result"
    },
    {
     "data": {
      "image/png": "[encoded data removed]",
      "text/plain": [
       "<Figure size 432x288 with 2 Axes>"
      ]
     },
     "metadata": {
      "needs_background": "light"
     },
     "output_type": "display_data"
    }
   ],
   "source": [
    "#Logistic Regression (Grid Search) Confusion matrix\n",
    "cf_matrix = confusion_matrix(y_test,y_pred_acc)\n",
    "\n",
    "ConfusionMatrixDisplay(cf_matrix).plot()"
   ]
  },
  {
   "cell_type": "markdown",
   "metadata": {},
   "source": [
    "We can see that the logistic regression performed similarly to the decision tree classifier in terms of the selected metrics. "
   ]
  },
  {
   "cell_type": "markdown",
   "metadata": {},
   "source": [
    "### Apply K - nearest neighbor "
   ]
  },
  {
   "cell_type": "code",
   "execution_count": 78,
   "metadata": {},
   "outputs": [],
   "source": [
    "from sklearn.neighbors import KNeighborsClassifier\n",
    "\n",
    "Kneighbors = KNeighborsClassifier()\n",
    "Kneighbors.fit(X_train, y_train)\n",
    "y_pred = Kneighbors.predict(X_test)"
   ]
  },
  {
   "cell_type": "code",
   "execution_count": 81,
   "metadata": {},
   "outputs": [
    {
     "data": {
      "text/plain": [
       "<sklearn.metrics._plot.confusion_matrix.ConfusionMatrixDisplay at 0x7ff9f0c51610>"
      ]
     },
     "execution_count": 81,
     "metadata": {},
     "output_type": "execute_result"
    },
    {
     "data": {
      "image/png": "[encoded data removed]",
      "text/plain": [
       "<Figure size 432x288 with 2 Axes>"
      ]
     },
     "metadata": {
      "needs_background": "light"
     },
     "output_type": "display_data"
    }
   ],
   "source": [
    "cf_matrix = confusion_matrix(y_test,y_pred)\n",
    "\n",
    "ConfusionMatrixDisplay(cf_matrix).plot()"
   ]
  },
  {
   "cell_type": "markdown",
   "metadata": {},
   "source": [
    "Without hyperparameter optimization the K nearest neighbor function produces an output that is produces almost no false positives but a high percentage of false negatives indicating that it is not very accurate at identifying these cases. I will test hyperparameters to see if there is a simple way to improve these. "
   ]
  },
  {
   "cell_type": "code",
   "execution_count": 84,
   "metadata": {},
   "outputs": [
    {
     "data": {
      "text/plain": [
       "GridSearchCV(estimator=KNeighborsClassifier(),\n",
       "             param_grid={'n_neighbors': [2, 3, 4, 5, 6, 7, 8, 9, 10]},\n",
       "             scoring='f1')"
      ]
     },
     "execution_count": 84,
     "metadata": {},
     "output_type": "execute_result"
    }
   ],
   "source": [
    "params = {'n_neighbors':[2,3,4,5,6,7,8,9,10]}\n",
    "\n",
    "GridSearch = GridSearchCV(Kneighbors , param_grid = params, scoring = 'f1' )\n",
    "GridSearch.fit(X_train, y_train)"
   ]
  },
  {
   "cell_type": "code",
   "execution_count": 88,
   "metadata": {},
   "outputs": [
    {
     "name": "stdout",
     "output_type": "stream",
     "text": [
      "Accuracy Score : 0.9984199992977775\n",
      "Precision Score : 1.0\n",
      "Recall Score : 0.1509433962264151\n",
      "F1 Score : 0.26229508196721313\n"
     ]
    },
    {
     "data": {
      "text/plain": [
       "array([[28428,     0],\n",
       "       [   45,     8]])"
      ]
     },
     "execution_count": 88,
     "metadata": {},
     "output_type": "execute_result"
    }
   ],
   "source": [
    "y_pred_acc = GridSearch.predict(X_test)\n",
    "\n",
    "# New Model Evaluation metrics \n",
    "print('Accuracy Score : ' + str(accuracy_score(y_test,y_pred_acc)))\n",
    "print('Precision Score : ' + str(precision_score(y_test,y_pred_acc)))\n",
    "print('Recall Score : ' + str(recall_score(y_test,y_pred_acc)))\n",
    "print('F1 Score : ' + str(f1_score(y_test,y_pred_acc)))\n",
    "\n",
    "#Logistic Regression (Grid Search) Confusion matrix\n",
    "confusion_matrix(y_test,y_pred_acc)"
   ]
  },
  {
   "cell_type": "markdown",
   "metadata": {},
   "source": [
    "It does not appear that the K neighbors classifier is effective for this use case. "
   ]
  }
 ],
 "metadata": {
  "kernelspec": {
   "display_name": "Python 3",
   "language": "python",
   "name": "python3"
  },
  "language_info": {
   "codemirror_mode": {
    "name": "ipython",
    "version": 3
   },
   "file_extension": ".py",
   "mimetype": "text/x-python",
   "name": "python",
   "nbconvert_exporter": "python",
   "pygments_lexer": "ipython3",
   "version": "3.8.5"
  }
 },
 "nbformat": 4,
 "nbformat_minor": 4
}

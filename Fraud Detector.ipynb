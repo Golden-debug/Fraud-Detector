{
 "cells": [
  {
   "cell_type": "markdown",
   "metadata": {},
   "source": [
    "## Introduction\n",
    "\n",
    "This project involves using simple machine learning models to identify frauduent credit card transations. "
   ]
  },
  {
   "cell_type": "code",
   "execution_count": 1,
   "metadata": {},
   "outputs": [],
   "source": [
    "import pandas as pd\n",
    "import numpy as np\n"
   ]
  },
  {
   "cell_type": "markdown",
   "metadata": {},
   "source": [
    "#### Import Data\n",
    "\n",
    "Source: https://www.kaggle.com/mlg-ulb/creditcardfraud\n",
    "\n",
    "Columns are the result of principal component analysis so column headers do not correspond with original features in the dataset but are rather combinations of features. Each row in this dataset corresponds with a transaction. "
   ]
  },
  {
   "cell_type": "code",
   "execution_count": 2,
   "metadata": {},
   "outputs": [],
   "source": [
    "credit_df = pd.read_csv('Data/creditcard.csv')"
   ]
  },
  {
   "cell_type": "code",
   "execution_count": 3,
   "metadata": {},
   "outputs": [
    {
     "data": {
      "text/html": [
       "<div>\n",
       "<style scoped>\n",
       "    .dataframe tbody tr th:only-of-type {\n",
       "        vertical-align: middle;\n",
       "    }\n",
       "\n",
       "    .dataframe tbody tr th {\n",
       "        vertical-align: top;\n",
       "    }\n",
       "\n",
       "    .dataframe thead th {\n",
       "        text-align: right;\n",
       "    }\n",
       "</style>\n",
       "<table border=\"1\" class=\"dataframe\">\n",
       "  <thead>\n",
       "    <tr style=\"text-align: right;\">\n",
       "      <th></th>\n",
       "      <th>Time</th>\n",
       "      <th>V1</th>\n",
       "      <th>V2</th>\n",
       "      <th>V3</th>\n",
       "      <th>V4</th>\n",
       "      <th>V5</th>\n",
       "      <th>V6</th>\n",
       "      <th>V7</th>\n",
       "      <th>V8</th>\n",
       "      <th>V9</th>\n",
       "      <th>...</th>\n",
       "      <th>V21</th>\n",
       "      <th>V22</th>\n",
       "      <th>V23</th>\n",
       "      <th>V24</th>\n",
       "      <th>V25</th>\n",
       "      <th>V26</th>\n",
       "      <th>V27</th>\n",
       "      <th>V28</th>\n",
       "      <th>Amount</th>\n",
       "      <th>Class</th>\n",
       "    </tr>\n",
       "  </thead>\n",
       "  <tbody>\n",
       "    <tr>\n",
       "      <th>0</th>\n",
       "      <td>0.0</td>\n",
       "      <td>-1.359807</td>\n",
       "      <td>-0.072781</td>\n",
       "      <td>2.536347</td>\n",
       "      <td>1.378155</td>\n",
       "      <td>-0.338321</td>\n",
       "      <td>0.462388</td>\n",
       "      <td>0.239599</td>\n",
       "      <td>0.098698</td>\n",
       "      <td>0.363787</td>\n",
       "      <td>...</td>\n",
       "      <td>-0.018307</td>\n",
       "      <td>0.277838</td>\n",
       "      <td>-0.110474</td>\n",
       "      <td>0.066928</td>\n",
       "      <td>0.128539</td>\n",
       "      <td>-0.189115</td>\n",
       "      <td>0.133558</td>\n",
       "      <td>-0.021053</td>\n",
       "      <td>149.62</td>\n",
       "      <td>0</td>\n",
       "    </tr>\n",
       "    <tr>\n",
       "      <th>1</th>\n",
       "      <td>0.0</td>\n",
       "      <td>1.191857</td>\n",
       "      <td>0.266151</td>\n",
       "      <td>0.166480</td>\n",
       "      <td>0.448154</td>\n",
       "      <td>0.060018</td>\n",
       "      <td>-0.082361</td>\n",
       "      <td>-0.078803</td>\n",
       "      <td>0.085102</td>\n",
       "      <td>-0.255425</td>\n",
       "      <td>...</td>\n",
       "      <td>-0.225775</td>\n",
       "      <td>-0.638672</td>\n",
       "      <td>0.101288</td>\n",
       "      <td>-0.339846</td>\n",
       "      <td>0.167170</td>\n",
       "      <td>0.125895</td>\n",
       "      <td>-0.008983</td>\n",
       "      <td>0.014724</td>\n",
       "      <td>2.69</td>\n",
       "      <td>0</td>\n",
       "    </tr>\n",
       "    <tr>\n",
       "      <th>2</th>\n",
       "      <td>1.0</td>\n",
       "      <td>-1.358354</td>\n",
       "      <td>-1.340163</td>\n",
       "      <td>1.773209</td>\n",
       "      <td>0.379780</td>\n",
       "      <td>-0.503198</td>\n",
       "      <td>1.800499</td>\n",
       "      <td>0.791461</td>\n",
       "      <td>0.247676</td>\n",
       "      <td>-1.514654</td>\n",
       "      <td>...</td>\n",
       "      <td>0.247998</td>\n",
       "      <td>0.771679</td>\n",
       "      <td>0.909412</td>\n",
       "      <td>-0.689281</td>\n",
       "      <td>-0.327642</td>\n",
       "      <td>-0.139097</td>\n",
       "      <td>-0.055353</td>\n",
       "      <td>-0.059752</td>\n",
       "      <td>378.66</td>\n",
       "      <td>0</td>\n",
       "    </tr>\n",
       "    <tr>\n",
       "      <th>3</th>\n",
       "      <td>1.0</td>\n",
       "      <td>-0.966272</td>\n",
       "      <td>-0.185226</td>\n",
       "      <td>1.792993</td>\n",
       "      <td>-0.863291</td>\n",
       "      <td>-0.010309</td>\n",
       "      <td>1.247203</td>\n",
       "      <td>0.237609</td>\n",
       "      <td>0.377436</td>\n",
       "      <td>-1.387024</td>\n",
       "      <td>...</td>\n",
       "      <td>-0.108300</td>\n",
       "      <td>0.005274</td>\n",
       "      <td>-0.190321</td>\n",
       "      <td>-1.175575</td>\n",
       "      <td>0.647376</td>\n",
       "      <td>-0.221929</td>\n",
       "      <td>0.062723</td>\n",
       "      <td>0.061458</td>\n",
       "      <td>123.50</td>\n",
       "      <td>0</td>\n",
       "    </tr>\n",
       "    <tr>\n",
       "      <th>4</th>\n",
       "      <td>2.0</td>\n",
       "      <td>-1.158233</td>\n",
       "      <td>0.877737</td>\n",
       "      <td>1.548718</td>\n",
       "      <td>0.403034</td>\n",
       "      <td>-0.407193</td>\n",
       "      <td>0.095921</td>\n",
       "      <td>0.592941</td>\n",
       "      <td>-0.270533</td>\n",
       "      <td>0.817739</td>\n",
       "      <td>...</td>\n",
       "      <td>-0.009431</td>\n",
       "      <td>0.798278</td>\n",
       "      <td>-0.137458</td>\n",
       "      <td>0.141267</td>\n",
       "      <td>-0.206010</td>\n",
       "      <td>0.502292</td>\n",
       "      <td>0.219422</td>\n",
       "      <td>0.215153</td>\n",
       "      <td>69.99</td>\n",
       "      <td>0</td>\n",
       "    </tr>\n",
       "  </tbody>\n",
       "</table>\n",
       "<p>5 rows × 31 columns</p>\n",
       "</div>"
      ],
      "text/plain": [
       "   Time        V1        V2        V3        V4        V5        V6        V7  \\\n",
       "0   0.0 -1.359807 -0.072781  2.536347  1.378155 -0.338321  0.462388  0.239599   \n",
       "1   0.0  1.191857  0.266151  0.166480  0.448154  0.060018 -0.082361 -0.078803   \n",
       "2   1.0 -1.358354 -1.340163  1.773209  0.379780 -0.503198  1.800499  0.791461   \n",
       "3   1.0 -0.966272 -0.185226  1.792993 -0.863291 -0.010309  1.247203  0.237609   \n",
       "4   2.0 -1.158233  0.877737  1.548718  0.403034 -0.407193  0.095921  0.592941   \n",
       "\n",
       "         V8        V9  ...       V21       V22       V23       V24       V25  \\\n",
       "0  0.098698  0.363787  ... -0.018307  0.277838 -0.110474  0.066928  0.128539   \n",
       "1  0.085102 -0.255425  ... -0.225775 -0.638672  0.101288 -0.339846  0.167170   \n",
       "2  0.247676 -1.514654  ...  0.247998  0.771679  0.909412 -0.689281 -0.327642   \n",
       "3  0.377436 -1.387024  ... -0.108300  0.005274 -0.190321 -1.175575  0.647376   \n",
       "4 -0.270533  0.817739  ... -0.009431  0.798278 -0.137458  0.141267 -0.206010   \n",
       "\n",
       "        V26       V27       V28  Amount  Class  \n",
       "0 -0.189115  0.133558 -0.021053  149.62      0  \n",
       "1  0.125895 -0.008983  0.014724    2.69      0  \n",
       "2 -0.139097 -0.055353 -0.059752  378.66      0  \n",
       "3 -0.221929  0.062723  0.061458  123.50      0  \n",
       "4  0.502292  0.219422  0.215153   69.99      0  \n",
       "\n",
       "[5 rows x 31 columns]"
      ]
     },
     "execution_count": 3,
     "metadata": {},
     "output_type": "execute_result"
    }
   ],
   "source": [
    "credit_df.head()"
   ]
  },
  {
   "cell_type": "code",
   "execution_count": 4,
   "metadata": {},
   "outputs": [],
   "source": [
    "X = credit_df.drop(['Class'], axis=1)\n",
    "y = credit_df['Class']"
   ]
  },
  {
   "cell_type": "code",
   "execution_count": 5,
   "metadata": {},
   "outputs": [
    {
     "name": "stdout",
     "output_type": "stream",
     "text": [
      "(284807, 30)\n",
      "(284807,)\n"
     ]
    }
   ],
   "source": [
    "print(X.shape)\n",
    "print(y.shape)"
   ]
  },
  {
   "cell_type": "code",
   "execution_count": 6,
   "metadata": {},
   "outputs": [],
   "source": [
    "from sklearn.model_selection import train_test_split\n",
    "\n",
    "X_train, X_test, y_train, y_test = train_test_split(X, y, test_size=.1)"
   ]
  },
  {
   "cell_type": "code",
   "execution_count": 7,
   "metadata": {},
   "outputs": [
    {
     "data": {
      "text/html": [
       "<div>\n",
       "<style scoped>\n",
       "    .dataframe tbody tr th:only-of-type {\n",
       "        vertical-align: middle;\n",
       "    }\n",
       "\n",
       "    .dataframe tbody tr th {\n",
       "        vertical-align: top;\n",
       "    }\n",
       "\n",
       "    .dataframe thead th {\n",
       "        text-align: right;\n",
       "    }\n",
       "</style>\n",
       "<table border=\"1\" class=\"dataframe\">\n",
       "  <thead>\n",
       "    <tr style=\"text-align: right;\">\n",
       "      <th></th>\n",
       "      <th>Time</th>\n",
       "      <th>V1</th>\n",
       "      <th>V2</th>\n",
       "      <th>V3</th>\n",
       "      <th>V4</th>\n",
       "      <th>V5</th>\n",
       "      <th>V6</th>\n",
       "      <th>V7</th>\n",
       "      <th>V8</th>\n",
       "      <th>V9</th>\n",
       "      <th>...</th>\n",
       "      <th>V20</th>\n",
       "      <th>V21</th>\n",
       "      <th>V22</th>\n",
       "      <th>V23</th>\n",
       "      <th>V24</th>\n",
       "      <th>V25</th>\n",
       "      <th>V26</th>\n",
       "      <th>V27</th>\n",
       "      <th>V28</th>\n",
       "      <th>Amount</th>\n",
       "    </tr>\n",
       "  </thead>\n",
       "  <tbody>\n",
       "    <tr>\n",
       "      <th>218556</th>\n",
       "      <td>141361.0</td>\n",
       "      <td>1.820387</td>\n",
       "      <td>0.406277</td>\n",
       "      <td>-0.422172</td>\n",
       "      <td>3.848608</td>\n",
       "      <td>0.192404</td>\n",
       "      <td>-0.115696</td>\n",
       "      <td>0.149229</td>\n",
       "      <td>-0.114804</td>\n",
       "      <td>-0.855877</td>\n",
       "      <td>...</td>\n",
       "      <td>-0.185160</td>\n",
       "      <td>0.063101</td>\n",
       "      <td>0.168957</td>\n",
       "      <td>0.161053</td>\n",
       "      <td>-0.037314</td>\n",
       "      <td>-0.117779</td>\n",
       "      <td>-0.063324</td>\n",
       "      <td>-0.026241</td>\n",
       "      <td>-0.035104</td>\n",
       "      <td>49.26</td>\n",
       "    </tr>\n",
       "    <tr>\n",
       "      <th>205256</th>\n",
       "      <td>135657.0</td>\n",
       "      <td>-0.339483</td>\n",
       "      <td>0.708906</td>\n",
       "      <td>-1.036587</td>\n",
       "      <td>0.898636</td>\n",
       "      <td>0.306698</td>\n",
       "      <td>0.153776</td>\n",
       "      <td>1.383622</td>\n",
       "      <td>0.266602</td>\n",
       "      <td>-0.943725</td>\n",
       "      <td>...</td>\n",
       "      <td>0.190770</td>\n",
       "      <td>0.257643</td>\n",
       "      <td>0.424760</td>\n",
       "      <td>0.469497</td>\n",
       "      <td>-0.849882</td>\n",
       "      <td>-0.947238</td>\n",
       "      <td>-0.715008</td>\n",
       "      <td>0.116941</td>\n",
       "      <td>0.217047</td>\n",
       "      <td>200.45</td>\n",
       "    </tr>\n",
       "    <tr>\n",
       "      <th>137749</th>\n",
       "      <td>82305.0</td>\n",
       "      <td>0.038296</td>\n",
       "      <td>-2.936676</td>\n",
       "      <td>-1.108168</td>\n",
       "      <td>-0.423923</td>\n",
       "      <td>-0.944666</td>\n",
       "      <td>0.402940</td>\n",
       "      <td>0.374271</td>\n",
       "      <td>-0.172798</td>\n",
       "      <td>-0.718552</td>\n",
       "      <td>...</td>\n",
       "      <td>1.547172</td>\n",
       "      <td>0.525757</td>\n",
       "      <td>-0.246498</td>\n",
       "      <td>-0.840384</td>\n",
       "      <td>-1.278373</td>\n",
       "      <td>0.333752</td>\n",
       "      <td>-0.162512</td>\n",
       "      <td>-0.130106</td>\n",
       "      <td>0.124690</td>\n",
       "      <td>753.50</td>\n",
       "    </tr>\n",
       "    <tr>\n",
       "      <th>244210</th>\n",
       "      <td>152252.0</td>\n",
       "      <td>-2.129690</td>\n",
       "      <td>1.326521</td>\n",
       "      <td>0.620255</td>\n",
       "      <td>-0.826510</td>\n",
       "      <td>-0.524953</td>\n",
       "      <td>0.358104</td>\n",
       "      <td>0.292985</td>\n",
       "      <td>0.695087</td>\n",
       "      <td>0.466614</td>\n",
       "      <td>...</td>\n",
       "      <td>0.362525</td>\n",
       "      <td>-0.281611</td>\n",
       "      <td>-0.418699</td>\n",
       "      <td>0.029659</td>\n",
       "      <td>0.690819</td>\n",
       "      <td>-0.131822</td>\n",
       "      <td>-0.009821</td>\n",
       "      <td>0.681434</td>\n",
       "      <td>0.451243</td>\n",
       "      <td>99.99</td>\n",
       "    </tr>\n",
       "    <tr>\n",
       "      <th>268502</th>\n",
       "      <td>163243.0</td>\n",
       "      <td>0.090351</td>\n",
       "      <td>0.787187</td>\n",
       "      <td>-0.296789</td>\n",
       "      <td>-1.068828</td>\n",
       "      <td>1.260345</td>\n",
       "      <td>0.236703</td>\n",
       "      <td>0.828873</td>\n",
       "      <td>0.101666</td>\n",
       "      <td>-0.251891</td>\n",
       "      <td>...</td>\n",
       "      <td>0.038822</td>\n",
       "      <td>-0.285680</td>\n",
       "      <td>-0.709115</td>\n",
       "      <td>-0.044286</td>\n",
       "      <td>-0.356659</td>\n",
       "      <td>-0.355143</td>\n",
       "      <td>0.153298</td>\n",
       "      <td>0.237878</td>\n",
       "      <td>0.083374</td>\n",
       "      <td>1.79</td>\n",
       "    </tr>\n",
       "    <tr>\n",
       "      <th>...</th>\n",
       "      <td>...</td>\n",
       "      <td>...</td>\n",
       "      <td>...</td>\n",
       "      <td>...</td>\n",
       "      <td>...</td>\n",
       "      <td>...</td>\n",
       "      <td>...</td>\n",
       "      <td>...</td>\n",
       "      <td>...</td>\n",
       "      <td>...</td>\n",
       "      <td>...</td>\n",
       "      <td>...</td>\n",
       "      <td>...</td>\n",
       "      <td>...</td>\n",
       "      <td>...</td>\n",
       "      <td>...</td>\n",
       "      <td>...</td>\n",
       "      <td>...</td>\n",
       "      <td>...</td>\n",
       "      <td>...</td>\n",
       "      <td>...</td>\n",
       "    </tr>\n",
       "    <tr>\n",
       "      <th>239756</th>\n",
       "      <td>150252.0</td>\n",
       "      <td>-2.064658</td>\n",
       "      <td>-2.149601</td>\n",
       "      <td>2.537420</td>\n",
       "      <td>-0.920428</td>\n",
       "      <td>0.632176</td>\n",
       "      <td>-0.000359</td>\n",
       "      <td>-0.151459</td>\n",
       "      <td>-0.659979</td>\n",
       "      <td>0.403878</td>\n",
       "      <td>...</td>\n",
       "      <td>-0.123072</td>\n",
       "      <td>-0.499293</td>\n",
       "      <td>0.262374</td>\n",
       "      <td>0.534826</td>\n",
       "      <td>-0.326070</td>\n",
       "      <td>0.474822</td>\n",
       "      <td>-0.127034</td>\n",
       "      <td>-0.489612</td>\n",
       "      <td>-0.651590</td>\n",
       "      <td>21.31</td>\n",
       "    </tr>\n",
       "    <tr>\n",
       "      <th>81950</th>\n",
       "      <td>59174.0</td>\n",
       "      <td>1.107064</td>\n",
       "      <td>-1.338136</td>\n",
       "      <td>1.907193</td>\n",
       "      <td>-0.243249</td>\n",
       "      <td>-2.020151</td>\n",
       "      <td>0.966037</td>\n",
       "      <td>-1.857704</td>\n",
       "      <td>0.520906</td>\n",
       "      <td>0.531552</td>\n",
       "      <td>...</td>\n",
       "      <td>0.131738</td>\n",
       "      <td>0.412694</td>\n",
       "      <td>1.493226</td>\n",
       "      <td>-0.155258</td>\n",
       "      <td>0.328457</td>\n",
       "      <td>0.371770</td>\n",
       "      <td>0.070568</td>\n",
       "      <td>0.106866</td>\n",
       "      <td>0.027490</td>\n",
       "      <td>50.37</td>\n",
       "    </tr>\n",
       "    <tr>\n",
       "      <th>5225</th>\n",
       "      <td>5025.0</td>\n",
       "      <td>1.132376</td>\n",
       "      <td>0.122317</td>\n",
       "      <td>0.179001</td>\n",
       "      <td>0.413278</td>\n",
       "      <td>0.806393</td>\n",
       "      <td>1.569714</td>\n",
       "      <td>-0.386295</td>\n",
       "      <td>0.369732</td>\n",
       "      <td>1.377915</td>\n",
       "      <td>...</td>\n",
       "      <td>-0.246150</td>\n",
       "      <td>-0.343052</td>\n",
       "      <td>-0.594625</td>\n",
       "      <td>0.171249</td>\n",
       "      <td>-1.871096</td>\n",
       "      <td>-0.010958</td>\n",
       "      <td>0.236597</td>\n",
       "      <td>0.013853</td>\n",
       "      <td>-0.010476</td>\n",
       "      <td>3.49</td>\n",
       "    </tr>\n",
       "    <tr>\n",
       "      <th>78299</th>\n",
       "      <td>57465.0</td>\n",
       "      <td>-2.919364</td>\n",
       "      <td>0.478079</td>\n",
       "      <td>0.679789</td>\n",
       "      <td>-1.316987</td>\n",
       "      <td>-0.058643</td>\n",
       "      <td>-0.240860</td>\n",
       "      <td>0.196095</td>\n",
       "      <td>-0.325773</td>\n",
       "      <td>-0.259423</td>\n",
       "      <td>...</td>\n",
       "      <td>-1.367562</td>\n",
       "      <td>-0.282020</td>\n",
       "      <td>-0.047457</td>\n",
       "      <td>-0.324828</td>\n",
       "      <td>-0.622897</td>\n",
       "      <td>-0.120365</td>\n",
       "      <td>-0.802682</td>\n",
       "      <td>-1.973795</td>\n",
       "      <td>-0.471822</td>\n",
       "      <td>40.00</td>\n",
       "    </tr>\n",
       "    <tr>\n",
       "      <th>94413</th>\n",
       "      <td>64874.0</td>\n",
       "      <td>1.181246</td>\n",
       "      <td>-1.001134</td>\n",
       "      <td>1.052359</td>\n",
       "      <td>-0.492783</td>\n",
       "      <td>-1.469457</td>\n",
       "      <td>0.005104</td>\n",
       "      <td>-1.112797</td>\n",
       "      <td>0.109431</td>\n",
       "      <td>-0.160269</td>\n",
       "      <td>...</td>\n",
       "      <td>0.204627</td>\n",
       "      <td>0.380877</td>\n",
       "      <td>1.069475</td>\n",
       "      <td>-0.138372</td>\n",
       "      <td>0.151913</td>\n",
       "      <td>0.370433</td>\n",
       "      <td>-0.025617</td>\n",
       "      <td>0.055597</td>\n",
       "      <td>0.035008</td>\n",
       "      <td>79.00</td>\n",
       "    </tr>\n",
       "  </tbody>\n",
       "</table>\n",
       "<p>256326 rows × 30 columns</p>\n",
       "</div>"
      ],
      "text/plain": [
       "            Time        V1        V2        V3        V4        V5        V6  \\\n",
       "218556  141361.0  1.820387  0.406277 -0.422172  3.848608  0.192404 -0.115696   \n",
       "205256  135657.0 -0.339483  0.708906 -1.036587  0.898636  0.306698  0.153776   \n",
       "137749   82305.0  0.038296 -2.936676 -1.108168 -0.423923 -0.944666  0.402940   \n",
       "244210  152252.0 -2.129690  1.326521  0.620255 -0.826510 -0.524953  0.358104   \n",
       "268502  163243.0  0.090351  0.787187 -0.296789 -1.068828  1.260345  0.236703   \n",
       "...          ...       ...       ...       ...       ...       ...       ...   \n",
       "239756  150252.0 -2.064658 -2.149601  2.537420 -0.920428  0.632176 -0.000359   \n",
       "81950    59174.0  1.107064 -1.338136  1.907193 -0.243249 -2.020151  0.966037   \n",
       "5225      5025.0  1.132376  0.122317  0.179001  0.413278  0.806393  1.569714   \n",
       "78299    57465.0 -2.919364  0.478079  0.679789 -1.316987 -0.058643 -0.240860   \n",
       "94413    64874.0  1.181246 -1.001134  1.052359 -0.492783 -1.469457  0.005104   \n",
       "\n",
       "              V7        V8        V9  ...       V20       V21       V22  \\\n",
       "218556  0.149229 -0.114804 -0.855877  ... -0.185160  0.063101  0.168957   \n",
       "205256  1.383622  0.266602 -0.943725  ...  0.190770  0.257643  0.424760   \n",
       "137749  0.374271 -0.172798 -0.718552  ...  1.547172  0.525757 -0.246498   \n",
       "244210  0.292985  0.695087  0.466614  ...  0.362525 -0.281611 -0.418699   \n",
       "268502  0.828873  0.101666 -0.251891  ...  0.038822 -0.285680 -0.709115   \n",
       "...          ...       ...       ...  ...       ...       ...       ...   \n",
       "239756 -0.151459 -0.659979  0.403878  ... -0.123072 -0.499293  0.262374   \n",
       "81950  -1.857704  0.520906  0.531552  ...  0.131738  0.412694  1.493226   \n",
       "5225   -0.386295  0.369732  1.377915  ... -0.246150 -0.343052 -0.594625   \n",
       "78299   0.196095 -0.325773 -0.259423  ... -1.367562 -0.282020 -0.047457   \n",
       "94413  -1.112797  0.109431 -0.160269  ...  0.204627  0.380877  1.069475   \n",
       "\n",
       "             V23       V24       V25       V26       V27       V28  Amount  \n",
       "218556  0.161053 -0.037314 -0.117779 -0.063324 -0.026241 -0.035104   49.26  \n",
       "205256  0.469497 -0.849882 -0.947238 -0.715008  0.116941  0.217047  200.45  \n",
       "137749 -0.840384 -1.278373  0.333752 -0.162512 -0.130106  0.124690  753.50  \n",
       "244210  0.029659  0.690819 -0.131822 -0.009821  0.681434  0.451243   99.99  \n",
       "268502 -0.044286 -0.356659 -0.355143  0.153298  0.237878  0.083374    1.79  \n",
       "...          ...       ...       ...       ...       ...       ...     ...  \n",
       "239756  0.534826 -0.326070  0.474822 -0.127034 -0.489612 -0.651590   21.31  \n",
       "81950  -0.155258  0.328457  0.371770  0.070568  0.106866  0.027490   50.37  \n",
       "5225    0.171249 -1.871096 -0.010958  0.236597  0.013853 -0.010476    3.49  \n",
       "78299  -0.324828 -0.622897 -0.120365 -0.802682 -1.973795 -0.471822   40.00  \n",
       "94413  -0.138372  0.151913  0.370433 -0.025617  0.055597  0.035008   79.00  \n",
       "\n",
       "[256326 rows x 30 columns]"
      ]
     },
     "execution_count": 7,
     "metadata": {},
     "output_type": "execute_result"
    }
   ],
   "source": [
    "X_train"
   ]
  },
  {
   "cell_type": "markdown",
   "metadata": {},
   "source": [
    "### Apply Decision Tree Classifier"
   ]
  },
  {
   "cell_type": "code",
   "execution_count": 8,
   "metadata": {},
   "outputs": [],
   "source": [
    "from sklearn.tree import DecisionTreeClassifier\n",
    "\n",
    "#instantiate\n",
    "Tree = DecisionTreeClassifier(max_depth=2)\n",
    "\n",
    "#fit\n",
    "Tree.fit(X_train,y_train)\n",
    "\n",
    "#predict\n",
    "y_pred = Tree.predict(X_test)\n"
   ]
  },
  {
   "cell_type": "markdown",
   "metadata": {},
   "source": [
    "#### Evaluate Accuracy"
   ]
  },
  {
   "cell_type": "code",
   "execution_count": 9,
   "metadata": {},
   "outputs": [
    {
     "data": {
      "text/plain": [
       "0.9994382219725431"
      ]
     },
     "execution_count": 9,
     "metadata": {},
     "output_type": "execute_result"
    }
   ],
   "source": [
    "from sklearn.metrics import accuracy_score\n",
    "accuracy_score(y_pred, y_test)"
   ]
  },
  {
   "cell_type": "markdown",
   "metadata": {},
   "source": [
    "We can see that this method achieves a high accuracy rating but we know that the dataset has a high class imbalance with almost entirely negative values so this accuracy score does not mean much. I will review the confusion matrix to illustrustrate this point. "
   ]
  },
  {
   "cell_type": "code",
   "execution_count": 10,
   "metadata": {},
   "outputs": [
    {
     "data": {
      "text/plain": [
       "<sklearn.metrics._plot.confusion_matrix.ConfusionMatrixDisplay at 0x7fcae4879a00>"
      ]
     },
     "execution_count": 10,
     "metadata": {},
     "output_type": "execute_result"
    },
    {
     "data": {
      "image/png": "[encoded data removed]",
      "text/plain": [
       "<Figure size 432x288 with 2 Axes>"
      ]
     },
     "metadata": {
      "needs_background": "light"
     },
     "output_type": "display_data"
    }
   ],
   "source": [
    "from sklearn.metrics import confusion_matrix\n",
    "from sklearn.metrics import ConfusionMatrixDisplay\n",
    "\n",
    "cf_matrix = confusion_matrix(y_pred, y_test)\n",
    "\n",
    "ConfusionMatrixDisplay(cf_matrix).plot()"
   ]
  },
  {
   "cell_type": "markdown",
   "metadata": {},
   "source": [
    "We can see that of the 53 fraudulent transations 47 of them were identified as non-fraudulent. This is not a good ratio. I will calculate the precision and recall metrics to show this. "
   ]
  },
  {
   "cell_type": "code",
   "execution_count": 11,
   "metadata": {},
   "outputs": [
    {
     "data": {
      "text/plain": [
       "0.8461538461538461"
      ]
     },
     "execution_count": 11,
     "metadata": {},
     "output_type": "execute_result"
    }
   ],
   "source": [
    "# Precision \n",
    "from sklearn.metrics import precision_score\n",
    "\n",
    "# precision_score(true labels, predicted labels)\n",
    "precision_score(y_test, y_pred)"
   ]
  },
  {
   "cell_type": "code",
   "execution_count": 12,
   "metadata": {
    "scrolled": true
   },
   "outputs": [
    {
     "data": {
      "text/plain": [
       "0.7674418604651163"
      ]
     },
     "execution_count": 12,
     "metadata": {},
     "output_type": "execute_result"
    }
   ],
   "source": [
    "# Recall\n",
    "from sklearn.metrics import recall_score\n",
    "\n",
    "# recall_score(true labels, predicted labels)\n",
    "recall_score(y_test, y_pred)"
   ]
  },
  {
   "cell_type": "markdown",
   "metadata": {},
   "source": [
    "We can see that this model has extemely high precision of 1.0, meaning that it almost never (or never in the case of this dataset) produces false positives. However it has very low recall, meaning that the model only actually catches 11.3 percent of fraudulent transations. I would not recommend the use of this model for that reason. It is possible that some degree of hyperparameter tuning could improve the model however. "
   ]
  },
  {
   "cell_type": "markdown",
   "metadata": {},
   "source": [
    "#### Hyperparamer Tuning\n",
    "\n",
    "I given how small the number of negative values is for this dataset I expect that I will need to increase the max_depth hyperparameter. I will do this below. Specifically I will run a loop which will refit the model at various different max depths and record the metrics scores for each. I will then plot the results to see if there is an optimal setting for max_depth."
   ]
  },
  {
   "cell_type": "code",
   "execution_count": 13,
   "metadata": {},
   "outputs": [],
   "source": [
    "from sklearn.metrics import f1_score\n",
    "\n",
    "recall_scores = []\n",
    "precision_scores = []\n",
    "f1_scores = []\n",
    "accuracy_scores = []\n",
    "max_depths = range(5,20)\n",
    "\n",
    "for max_depth in max_depths:\n",
    "    #instantiate\n",
    "    Tree = DecisionTreeClassifier(max_depth=max_depth)\n",
    "\n",
    "    #fit\n",
    "    Tree.fit(X_train,y_train)\n",
    "\n",
    "    #predict\n",
    "    y_pred = Tree.predict(X_test)\n",
    "    \n",
    "    #calcuate metrics\n",
    "    accuracy = accuracy_score(y_pred, y_test)\n",
    "    precision = precision_score(y_test, y_pred)\n",
    "    recall = recall_score(y_test, y_pred)\n",
    "    f1 = f1_score(y_test, y_pred)\n",
    "    \n",
    "    #append scores to list\n",
    "    recall_scores.append(recall)\n",
    "    precision_scores.append(precision)\n",
    "    accuracy_scores.append(accuracy)\n",
    "    f1_scores.append(f1)\n",
    "    \n",
    "    \n",
    "    \n",
    "#     print(f\"Max depth {max_depth} has an accuracy of {accuracy}\")\n",
    "#     print(f\"Max depth {max_depth} has an recall of {recall}\")\n",
    "#     print(f\"Max depth {max_depth} has an precision of {precision}\")"
   ]
  },
  {
   "cell_type": "markdown",
   "metadata": {},
   "source": [
    "#### Plot results"
   ]
  },
  {
   "cell_type": "code",
   "execution_count": 14,
   "metadata": {},
   "outputs": [
    {
     "data": {
      "image/png": "[encoded data removed]",
      "text/plain": [
       "<Figure size 1080x720 with 1 Axes>"
      ]
     },
     "metadata": {
      "needs_background": "light"
     },
     "output_type": "display_data"
    }
   ],
   "source": [
    "import matplotlib.pyplot as plt\n",
    "\n",
    "plt.figure(figsize=(15,10))\n",
    "plt.plot(max_depths, recall_scores, label='recall')\n",
    "plt.plot(max_depths, accuracy_scores, label= 'precision')\n",
    "plt.plot(max_depths, precision_scores, label = 'accuracy')\n",
    "plt.plot(max_depths, f1_scores, label = 'f1 score')\n",
    "plt.legend()\n",
    "plt.show()"
   ]
  },
  {
   "cell_type": "markdown",
   "metadata": {},
   "source": [
    "It appears that tuning the max depth parameters had a moderate effect on the various relevant metrics. The best setting appears to be at the initial point of max_depth = 5. This is where all of the relevant metric are maximized. After that point the model begins to overfit on the training data. "
   ]
  },
  {
   "cell_type": "code",
   "execution_count": 15,
   "metadata": {
    "scrolled": true
   },
   "outputs": [
    {
     "data": {
      "text/plain": [
       "<sklearn.metrics._plot.confusion_matrix.ConfusionMatrixDisplay at 0x7fcad34d3fa0>"
      ]
     },
     "execution_count": 15,
     "metadata": {},
     "output_type": "execute_result"
    },
    {
     "data": {
      "image/png": "[encoded data removed]",
      "text/plain": [
       "<Figure size 432x288 with 2 Axes>"
      ]
     },
     "metadata": {
      "needs_background": "light"
     },
     "output_type": "display_data"
    }
   ],
   "source": [
    "    #instantiate\n",
    "    Tree = DecisionTreeClassifier(max_depth=5)\n",
    "\n",
    "    #fit\n",
    "    Tree.fit(X_train,y_train)\n",
    "\n",
    "    #predict\n",
    "    y_pred = Tree.predict(X_test)\n",
    "    \n",
    "    \n",
    "    #Plot Confusion Matrix\n",
    "    cf_matrix = confusion_matrix(y_test,y_pred)\n",
    "\n",
    "    ConfusionMatrixDisplay(cf_matrix).plot()"
   ]
  },
  {
   "cell_type": "markdown",
   "metadata": {},
   "source": [
    "#### Examine Confusion Matrix\n",
    "\n",
    "We can see from the confusion matrix that there was only 1 false positive in the data and an acceptable 11 false negatives with the majority of fraud cases (42) being detected. I believe that this is an acceptable result. In this case there would be few credit card customers who would be bothered by inappropriate fraud charges however the downside of this approach is that 11 out of the 53 fraudulent transations were not identified meaning that the model is only 79% accurate at identifying these charges. Accross a larger dataset with millions of transations this 20% could add up to significant. Thus I believe the model can still be improved with a different approach."
   ]
  },
  {
   "cell_type": "markdown",
   "metadata": {},
   "source": [
    "### Apply Logistic Regression\n",
    "I will also apply a logistic regresssion to the data to see if I can improve the results using a different model technique. In this example I will apply a gridsearch to optimize the C hyperparameter."
   ]
  },
  {
   "cell_type": "code",
   "execution_count": 18,
   "metadata": {},
   "outputs": [
    {
     "name": "stdout",
     "output_type": "stream",
     "text": [
      "Accuracy Score : 0.9992626663389628\n",
      "Precision Score : 0.84375\n",
      "Recall Score : 0.627906976744186\n",
      "F1 Score : 0.72\n"
     ]
    },
    {
     "data": {
      "text/plain": [
       "array([[28433,     5],\n",
       "       [   16,    27]])"
      ]
     },
     "execution_count": 18,
     "metadata": {},
     "output_type": "execute_result"
    }
   ],
   "source": [
    "#Grid Search\n",
    "from sklearn.model_selection import GridSearchCV\n",
    "from sklearn.linear_model import LogisticRegression\n",
    "import warnings\n",
    "warnings.filterwarnings('ignore')\n",
    "\n",
    "clf = LogisticRegression(max_iter = 500)\n",
    "grid_values = {'C':[0.001,.009,0.01,.09,1,5,10,25]}\n",
    "grid_clf_acc = GridSearchCV(clf, param_grid = grid_values,scoring = 'f1')\n",
    "grid_clf_acc.fit(X_train, y_train)\n",
    "\n",
    "#Predict values based on new parameters\n",
    "y_pred_acc = grid_clf_acc.predict(X_test)\n",
    "\n",
    "# New Model Evaluation metrics \n",
    "print('Accuracy Score : ' + str(accuracy_score(y_test,y_pred_acc)))\n",
    "print('Precision Score : ' + str(precision_score(y_test,y_pred_acc)))\n",
    "print('Recall Score : ' + str(recall_score(y_test,y_pred_acc)))\n",
    "print('F1 Score : ' + str(f1_score(y_test,y_pred_acc)))\n",
    "\n",
    "#Logistic Regression (Grid Search) Confusion matrix\n",
    "confusion_matrix(y_test,y_pred_acc)\n",
    "\n",
    "\n"
   ]
  },
  {
   "cell_type": "code",
   "execution_count": 19,
   "metadata": {},
   "outputs": [
    {
     "data": {
      "text/plain": [
       "<sklearn.metrics._plot.confusion_matrix.ConfusionMatrixDisplay at 0x7fcad3489460>"
      ]
     },
     "execution_count": 19,
     "metadata": {},
     "output_type": "execute_result"
    },
    {
     "data": {
      "image/png": "[encoded data removed]",
      "text/plain": [
       "<Figure size 432x288 with 2 Axes>"
      ]
     },
     "metadata": {
      "needs_background": "light"
     },
     "output_type": "display_data"
    }
   ],
   "source": [
    "#Logistic Regression (Grid Search) Confusion matrix\n",
    "cf_matrix = confusion_matrix(y_test,y_pred_acc)\n",
    "\n",
    "ConfusionMatrixDisplay(cf_matrix).plot()"
   ]
  },
  {
   "cell_type": "markdown",
   "metadata": {},
   "source": [
    "We can see that the logistic regression performed similarly to the decision tree classifier in terms of the selected metrics. "
   ]
  },
  {
   "cell_type": "markdown",
   "metadata": {},
   "source": [
    "### Apply K - nearest neighbor "
   ]
  },
  {
   "cell_type": "code",
   "execution_count": 20,
   "metadata": {},
   "outputs": [],
   "source": [
    "from sklearn.neighbors import KNeighborsClassifier\n",
    "\n",
    "Kneighbors = KNeighborsClassifier()\n",
    "Kneighbors.fit(X_train, y_train)\n",
    "y_pred = Kneighbors.predict(X_test)"
   ]
  },
  {
   "cell_type": "code",
   "execution_count": 21,
   "metadata": {},
   "outputs": [
    {
     "data": {
      "text/plain": [
       "<sklearn.metrics._plot.confusion_matrix.ConfusionMatrixDisplay at 0x7fcad5dcb580>"
      ]
     },
     "execution_count": 21,
     "metadata": {},
     "output_type": "execute_result"
    },
    {
     "data": {
      "image/png": "[encoded data removed]",
      "text/plain": [
       "<Figure size 432x288 with 2 Axes>"
      ]
     },
     "metadata": {
      "needs_background": "light"
     },
     "output_type": "display_data"
    }
   ],
   "source": [
    "cf_matrix = confusion_matrix(y_test,y_pred)\n",
    "\n",
    "ConfusionMatrixDisplay(cf_matrix).plot()"
   ]
  },
  {
   "cell_type": "markdown",
   "metadata": {},
   "source": [
    "Without hyperparameter optimization the K nearest neighbor function produces an output that is produces almost no false positives but a high percentage of false negatives indicating that it is not very accurate at identifying these cases. I will test hyperparameters to see if there is a simple way to improve these. "
   ]
  },
  {
   "cell_type": "code",
   "execution_count": 22,
   "metadata": {},
   "outputs": [
    {
     "data": {
      "text/plain": [
       "GridSearchCV(estimator=KNeighborsClassifier(),\n",
       "             param_grid={'n_neighbors': [2, 3, 4, 5, 6, 7, 8, 9, 10]},\n",
       "             scoring='f1')"
      ]
     },
     "execution_count": 22,
     "metadata": {},
     "output_type": "execute_result"
    }
   ],
   "source": [
    "params = {'n_neighbors':[2,3,4,5,6,7,8,9,10]}\n",
    "\n",
    "GridSearch = GridSearchCV(Kneighbors , param_grid = params, scoring = 'f1' )\n",
    "GridSearch.fit(X_train, y_train)"
   ]
  },
  {
   "cell_type": "code",
   "execution_count": 23,
   "metadata": {},
   "outputs": [
    {
     "name": "stdout",
     "output_type": "stream",
     "text": [
      "Accuracy Score : 0.9985604438046417\n",
      "Precision Score : 0.75\n",
      "Recall Score : 0.06976744186046512\n",
      "F1 Score : 0.1276595744680851\n"
     ]
    },
    {
     "data": {
      "text/plain": [
       "array([[28437,     1],\n",
       "       [   40,     3]])"
      ]
     },
     "execution_count": 23,
     "metadata": {},
     "output_type": "execute_result"
    }
   ],
   "source": [
    "y_pred_acc = GridSearch.predict(X_test)\n",
    "\n",
    "# New Model Evaluation metrics \n",
    "print('Accuracy Score : ' + str(accuracy_score(y_test,y_pred_acc)))\n",
    "print('Precision Score : ' + str(precision_score(y_test,y_pred_acc)))\n",
    "print('Recall Score : ' + str(recall_score(y_test,y_pred_acc)))\n",
    "print('F1 Score : ' + str(f1_score(y_test,y_pred_acc)))\n",
    "\n",
    "#Logistic Regression (Grid Search) Confusion matrix\n",
    "confusion_matrix(y_test,y_pred_acc)"
   ]
  },
  {
   "cell_type": "markdown",
   "metadata": {},
   "source": [
    "It does not appear that the K neighbors classifier is effective for this use case. "
   ]
  },
  {
   "cell_type": "markdown",
   "metadata": {},
   "source": [
    "# Conclusion\n",
    "\n",
    "I have developed a number of models which could potentially be used in a production setting to assist existing processes with fraud identification. These models can likely be improved with additional tuning. "
   ]
  },
  {
   "cell_type": "code",
   "execution_count": null,
   "metadata": {},
   "outputs": [],
   "source": []
  }
 ],
 "metadata": {
  "kernelspec": {
   "display_name": "Python 3",
   "language": "python",
   "name": "python3"
  },
  "language_info": {
   "codemirror_mode": {
    "name": "ipython",
    "version": 3
   },
   "file_extension": ".py",
   "mimetype": "text/x-python",
   "name": "python",
   "nbconvert_exporter": "python",
   "pygments_lexer": "ipython3",
   "version": "3.8.5"
  }
 },
 "nbformat": 4,
 "nbformat_minor": 4
}
